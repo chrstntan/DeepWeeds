{
 "cells": [
  {
   "cell_type": "markdown",
   "id": "5f8fa900",
   "metadata": {},
   "source": [
    "# Libraries"
   ]
  },
  {
   "cell_type": "code",
   "execution_count": 10,
   "id": "350802f5",
   "metadata": {},
   "outputs": [],
   "source": [
    "import pickle\n",
    "import numpy as np\n",
    "import time\n",
    "from sklearn.model_selection import train_test_split, cross_val_score\n",
    "from sklearn.preprocessing import StandardScaler\n",
    "from sklearn.feature_selection import SelectKBest, f_classif\n",
    "from imblearn.over_sampling import SMOTE\n",
    "from sklearn.svm import SVC\n",
    "from sklearn.ensemble import RandomForestClassifier\n",
    "from sklearn.neighbors import KNeighborsClassifier\n",
    "from sklearn.metrics import accuracy_score, classification_report\n",
    "from sklearn.decomposition import PCA\n",
    "from sklearn.pipeline import Pipeline\n",
    "import xgboost as xgb\n",
    "from sklearn.linear_model import LogisticRegression\n",
    "from paths import SKIMAGE_FEATURES_PATH, IMG2VEC_FEATURES_PATH"
   ]
  },
  {
   "cell_type": "markdown",
   "id": "cf6ae717",
   "metadata": {},
   "source": [
    "# Data Processing (IMG2VEC)\n",
    "## Import"
   ]
  },
  {
   "cell_type": "code",
   "execution_count": 11,
   "id": "e210b008",
   "metadata": {},
   "outputs": [],
   "source": [
    "with open(IMG2VEC_FEATURES_PATH, \"rb\") as f:\n",
    "    X, y = pickle.load(f)"
   ]
  },
  {
   "cell_type": "markdown",
   "id": "9128e1ea",
   "metadata": {},
   "source": [
    "## Split"
   ]
  },
  {
   "cell_type": "code",
   "execution_count": 12,
   "id": "68ef967f",
   "metadata": {},
   "outputs": [],
   "source": [
    "X_train, X_test, y_train, y_test = train_test_split(X, y, test_size=0.2, random_state=28, stratify=y)"
   ]
  },
  {
   "cell_type": "markdown",
   "id": "2c9404b2",
   "metadata": {},
   "source": [
    "## Scale"
   ]
  },
  {
   "cell_type": "code",
   "execution_count": 13,
   "id": "d61bd91f",
   "metadata": {},
   "outputs": [],
   "source": [
    "scaler = StandardScaler()\n",
    "X_train_scaled = scaler.fit_transform(X_train)\n",
    "X_test_scaled = scaler.transform(X_test)"
   ]
  },
  {
   "cell_type": "markdown",
   "id": "3374ad86",
   "metadata": {},
   "source": [
    "# SVM\n",
    "Best Parameters: {'pca__n_components': 230, 'svm__C': 24}\n"
   ]
  },
  {
   "cell_type": "code",
   "execution_count": 14,
   "id": "0afff88b",
   "metadata": {},
   "outputs": [
    {
     "name": "stdout",
     "output_type": "stream",
     "text": [
      "Training Time: 26.4602 seconds\n"
     ]
    },
    {
     "name": "stderr",
     "output_type": "stream",
     "text": [
      "c:\\Users\\chrst\\AppData\\Local\\Programs\\Python\\Python312\\Lib\\site-packages\\sklearn\\svm\\_base.py:305: ConvergenceWarning: Solver terminated early (max_iter=5000).  Consider pre-processing your data with StandardScaler or MinMaxScaler.\n",
      "  warnings.warn(\n"
     ]
    }
   ],
   "source": [
    "SVM_pipeline = Pipeline([\n",
    "    ('pca', PCA(n_components=230)),\n",
    "    ('svm', SVC(kernel='rbf', C=24, max_iter=5000, tol=0.001, \n",
    "                random_state=28, class_weight=\"balanced\", gamma = \"scale\"))\n",
    "])\n",
    "\n",
    "start_train = time.time()\n",
    "SVM_pipeline.fit(X_train_scaled, y_train)\n",
    "end_train = time.time()\n",
    "training_time = end_train - start_train\n",
    "\n",
    "print(\"Training Time: {:.4f} seconds\".format(training_time))"
   ]
  },
  {
   "cell_type": "code",
   "execution_count": 15,
   "id": "f5e5f966",
   "metadata": {},
   "outputs": [
    {
     "name": "stdout",
     "output_type": "stream",
     "text": [
      "Inference Time: 10.1463 seconds\n",
      "Accuracy: 0.8540833809251857\n",
      "Classification Report:\n",
      "               precision    recall  f1-score   support\n",
      "\n",
      "           0       0.74      0.69      0.71       225\n",
      "           1       0.81      0.78      0.80       213\n",
      "           2       0.88      0.85      0.86       206\n",
      "           3       0.78      0.78      0.78       204\n",
      "           4       0.83      0.82      0.82       213\n",
      "           5       0.85      0.78      0.81       202\n",
      "           6       0.88      0.82      0.85       215\n",
      "           7       0.81      0.69      0.75       203\n",
      "           8       0.88      0.93      0.90      1821\n",
      "\n",
      "    accuracy                           0.85      3502\n",
      "   macro avg       0.83      0.79      0.81      3502\n",
      "weighted avg       0.85      0.85      0.85      3502\n",
      "\n"
     ]
    }
   ],
   "source": [
    "start_infer = time.time()\n",
    "y_pred = SVM_pipeline.predict(X_test_scaled)\n",
    "end_infer = time.time()\n",
    "inference_time = end_infer - start_infer\n",
    "\n",
    "print(\"Inference Time: {:.4f} seconds\".format(inference_time))\n",
    "print(\"Accuracy:\", accuracy_score(y_test, y_pred))\n",
    "print(\"Classification Report:\\n\", classification_report(y_test, y_pred))"
   ]
  },
  {
   "cell_type": "markdown",
   "id": "c06efd8f",
   "metadata": {},
   "source": [
    "# Random Forest\n",
    "Best Parameters: {'RF__class_weight': 'balanced', 'RF__n_estimators': 230, 'pca__n_components': 28}"
   ]
  },
  {
   "cell_type": "code",
   "execution_count": 16,
   "id": "e5635e2b",
   "metadata": {},
   "outputs": [
    {
     "name": "stdout",
     "output_type": "stream",
     "text": [
      "Training Time: 4.7832 seconds\n"
     ]
    }
   ],
   "source": [
    "Forest_pipeline = Pipeline([\n",
    "    ('pca', PCA(n_components=28)),  # or use SelectKBest instead\n",
    "    ('RF', RandomForestClassifier(n_estimators=230, class_weight=\"balanced\", \n",
    "                                   n_jobs=-1, random_state=28))\n",
    "])\n",
    "\n",
    "start_train = time.time()\n",
    "Forest_pipeline.fit(X_train_scaled, y_train)\n",
    "end_train = time.time()\n",
    "training_time = end_train - start_train\n",
    "\n",
    "print(\"Training Time: {:.4f} seconds\".format(training_time))"
   ]
  },
  {
   "cell_type": "code",
   "execution_count": 17,
   "id": "6bb35897",
   "metadata": {},
   "outputs": [
    {
     "name": "stdout",
     "output_type": "stream",
     "text": [
      "Inference Time: 0.1372 seconds\n",
      "Accuracy: 0.7027412906910337\n",
      "Classification Report:\n",
      "               precision    recall  f1-score   support\n",
      "\n",
      "           0       0.75      0.39      0.51       225\n",
      "           1       0.82      0.38      0.51       213\n",
      "           2       0.86      0.51      0.64       206\n",
      "           3       0.84      0.33      0.47       204\n",
      "           4       0.86      0.65      0.74       213\n",
      "           5       0.85      0.41      0.55       202\n",
      "           6       0.82      0.30      0.44       215\n",
      "           7       0.85      0.33      0.48       203\n",
      "           8       0.66      0.97      0.79      1821\n",
      "\n",
      "    accuracy                           0.70      3502\n",
      "   macro avg       0.81      0.47      0.57      3502\n",
      "weighted avg       0.74      0.70      0.67      3502\n",
      "\n"
     ]
    }
   ],
   "source": [
    "start_infer = time.time()\n",
    "y_pred = Forest_pipeline.predict(X_test_scaled)\n",
    "end_infer = time.time()\n",
    "inference_time = end_infer - start_infer\n",
    "\n",
    "print(\"Inference Time: {:.4f} seconds\".format(inference_time))\n",
    "print(\"Accuracy:\", accuracy_score(y_test, y_pred))\n",
    "print(\"Classification Report:\\n\", classification_report(y_test, y_pred))"
   ]
  },
  {
   "cell_type": "markdown",
   "id": "a9ee0238",
   "metadata": {},
   "source": [
    "# KNN\n",
    "Best Parameters: {'KNN__metric': 'cosine', 'KNN__n_neighbors': 8, 'KNN__weights': 'distance', 'pca__n_components': 210}"
   ]
  },
  {
   "cell_type": "code",
   "execution_count": 18,
   "id": "58cf9b57",
   "metadata": {},
   "outputs": [
    {
     "name": "stdout",
     "output_type": "stream",
     "text": [
      "Training Time: 0.1845 seconds\n"
     ]
    }
   ],
   "source": [
    "KNN_pipeline = Pipeline([\n",
    "    ('pca', PCA(n_components=210)),  # or use SelectKBest instead\n",
    "    ('KNN', KNeighborsClassifier(n_neighbors=8, metric=\"cosine\", weights=\"distance\"))\n",
    "])\n",
    "\n",
    "start_train = time.time()\n",
    "KNN_pipeline.fit(X_train_scaled, y_train)\n",
    "end_train = time.time()\n",
    "training_time = end_train - start_train\n",
    "\n",
    "print(\"Training Time: {:.4f} seconds\".format(training_time))"
   ]
  },
  {
   "cell_type": "code",
   "execution_count": 19,
   "id": "6a0c7f48",
   "metadata": {},
   "outputs": [
    {
     "name": "stdout",
     "output_type": "stream",
     "text": [
      "Inference Time: 0.9350 seconds\n",
      "Accuracy: 0.7966876070816676\n",
      "Classification Report:\n",
      "               precision    recall  f1-score   support\n",
      "\n",
      "           0       0.75      0.57      0.65       225\n",
      "           1       0.83      0.56      0.67       213\n",
      "           2       0.76      0.81      0.78       206\n",
      "           3       0.68      0.62      0.65       204\n",
      "           4       0.73      0.77      0.75       213\n",
      "           5       0.78      0.71      0.74       202\n",
      "           6       0.82      0.69      0.75       215\n",
      "           7       0.76      0.51      0.61       203\n",
      "           8       0.82      0.93      0.87      1821\n",
      "\n",
      "    accuracy                           0.80      3502\n",
      "   macro avg       0.77      0.69      0.72      3502\n",
      "weighted avg       0.79      0.80      0.79      3502\n",
      "\n"
     ]
    }
   ],
   "source": [
    "start_infer = time.time()\n",
    "y_pred = KNN_pipeline.predict(X_test_scaled)\n",
    "end_infer = time.time()\n",
    "inference_time = end_infer - start_infer\n",
    "\n",
    "print(\"Inference Time: {:.4f} seconds\".format(inference_time))\n",
    "print(\"Accuracy:\", accuracy_score(y_test, y_pred))\n",
    "print(\"Classification Report:\\n\", classification_report(y_test, y_pred))"
   ]
  },
  {
   "cell_type": "markdown",
   "id": "caf4c2e7",
   "metadata": {},
   "source": [
    "# Logistic Regresiion\n",
    "Best Parameters: {'LGR__C': np.float64(135.0), 'LGR__penalty': 'l1', 'pca__n_components': 275}"
   ]
  },
  {
   "cell_type": "code",
   "execution_count": 20,
   "id": "b8c6bad3",
   "metadata": {},
   "outputs": [
    {
     "name": "stderr",
     "output_type": "stream",
     "text": [
      "c:\\Users\\chrst\\AppData\\Local\\Programs\\Python\\Python312\\Lib\\site-packages\\sklearn\\linear_model\\_logistic.py:1247: FutureWarning: 'multi_class' was deprecated in version 1.5 and will be removed in 1.7. From then on, it will always use 'multinomial'. Leave it to its default value to avoid this warning.\n",
      "  warnings.warn(\n"
     ]
    },
    {
     "name": "stdout",
     "output_type": "stream",
     "text": [
      "Training Time: 368.6692 seconds\n"
     ]
    }
   ],
   "source": [
    "LGR_pipeline = Pipeline([\n",
    "    ('pca', PCA(n_components=275)),\n",
    "    ('LGR', LogisticRegression(multi_class='multinomial', solver='saga', max_iter=1000, class_weight='balanced', penalty = \"l1\", C = 135.0))\n",
    "])\n",
    "\n",
    "start_train = time.time()\n",
    "LGR_pipeline.fit(X_train_scaled, y_train)\n",
    "end_train = time.time()\n",
    "training_time = end_train - start_train\n",
    "\n",
    "print(\"Training Time: {:.4f} seconds\".format(training_time))"
   ]
  },
  {
   "cell_type": "code",
   "execution_count": 21,
   "id": "435c5ef2",
   "metadata": {},
   "outputs": [
    {
     "name": "stdout",
     "output_type": "stream",
     "text": [
      "Inference Time: 0.0202 seconds\n",
      "Accuracy: 0.683894917190177\n",
      "Classification Report:\n",
      "               precision    recall  f1-score   support\n",
      "\n",
      "           0       0.54      0.65      0.59       225\n",
      "           1       0.53      0.72      0.61       213\n",
      "           2       0.65      0.86      0.74       206\n",
      "           3       0.50      0.75      0.60       204\n",
      "           4       0.64      0.76      0.69       213\n",
      "           5       0.58      0.84      0.69       202\n",
      "           6       0.54      0.83      0.65       215\n",
      "           7       0.48      0.69      0.57       203\n",
      "           8       0.93      0.61      0.74      1821\n",
      "\n",
      "    accuracy                           0.68      3502\n",
      "   macro avg       0.60      0.75      0.65      3502\n",
      "weighted avg       0.75      0.68      0.69      3502\n",
      "\n"
     ]
    }
   ],
   "source": [
    "start_infer = time.time()\n",
    "y_pred = LGR_pipeline.predict(X_test_scaled)\n",
    "end_infer = time.time()\n",
    "inference_time = end_infer - start_infer\n",
    "\n",
    "print(\"Inference Time: {:.4f} seconds\".format(inference_time))\n",
    "print(\"Accuracy:\", accuracy_score(y_test, y_pred))\n",
    "print(\"Classification Report:\\n\", classification_report(y_test, y_pred))"
   ]
  }
 ],
 "metadata": {
  "kernelspec": {
   "display_name": "Python 3",
   "language": "python",
   "name": "python3"
  },
  "language_info": {
   "codemirror_mode": {
    "name": "ipython",
    "version": 3
   },
   "file_extension": ".py",
   "mimetype": "text/x-python",
   "name": "python",
   "nbconvert_exporter": "python",
   "pygments_lexer": "ipython3",
   "version": "3.12.9"
  }
 },
 "nbformat": 4,
 "nbformat_minor": 5
}
