{
 "cells": [
  {
   "cell_type": "markdown",
   "id": "5f8fa900",
   "metadata": {},
   "source": [
    "# Libraries"
   ]
  },
  {
   "cell_type": "code",
   "execution_count": 1,
   "id": "350802f5",
   "metadata": {},
   "outputs": [],
   "source": [
    "import pickle\n",
    "import numpy as np\n",
    "import time\n",
    "from sklearn.model_selection import train_test_split, cross_val_score\n",
    "from sklearn.preprocessing import StandardScaler\n",
    "from sklearn.feature_selection import SelectKBest, f_classif\n",
    "from imblearn.over_sampling import SMOTE\n",
    "from sklearn.svm import SVC\n",
    "from sklearn.ensemble import RandomForestClassifier\n",
    "from sklearn.neighbors import KNeighborsClassifier\n",
    "from sklearn.metrics import accuracy_score, classification_report\n",
    "from sklearn.decomposition import PCA\n",
    "from sklearn.pipeline import Pipeline\n",
    "import xgboost as xgb\n",
    "from sklearn.linear_model import LogisticRegression\n",
    "from paths import SKIMAGE_FEATURES_PATH, IMG2VEC_FEATURES_PATH"
   ]
  },
  {
   "cell_type": "markdown",
   "id": "cf6ae717",
   "metadata": {},
   "source": [
    "# Data Processing (IMG2VEC)\n",
    "## Import"
   ]
  },
  {
   "cell_type": "code",
   "execution_count": 2,
   "id": "e210b008",
   "metadata": {},
   "outputs": [],
   "source": [
    "with open(IMG2VEC_FEATURES_PATH, \"rb\") as f:\n",
    "    X, y = pickle.load(f)"
   ]
  },
  {
   "cell_type": "markdown",
   "id": "9128e1ea",
   "metadata": {},
   "source": [
    "## Split"
   ]
  },
  {
   "cell_type": "code",
   "execution_count": 3,
   "id": "68ef967f",
   "metadata": {},
   "outputs": [],
   "source": [
    "X_train, X_test, y_train, y_test = train_test_split(X, y, test_size=0.2, random_state=28, stratify=y)"
   ]
  },
  {
   "cell_type": "markdown",
   "id": "2c9404b2",
   "metadata": {},
   "source": [
    "## Scale"
   ]
  },
  {
   "cell_type": "code",
   "execution_count": 4,
   "id": "d61bd91f",
   "metadata": {},
   "outputs": [],
   "source": [
    "scaler = StandardScaler()\n",
    "X_train_scaled = scaler.fit_transform(X_train)\n",
    "X_test_scaled = scaler.transform(X_test)"
   ]
  },
  {
   "cell_type": "markdown",
   "id": "3374ad86",
   "metadata": {},
   "source": [
    "# SVM"
   ]
  },
  {
   "cell_type": "code",
   "execution_count": 5,
   "id": "0afff88b",
   "metadata": {},
   "outputs": [
    {
     "name": "stdout",
     "output_type": "stream",
     "text": [
      "Initial CV score (f1_weighted): 0.7637\n"
     ]
    }
   ],
   "source": [
    "SVM_pipeline = Pipeline([\n",
    "    ('pca', PCA(n_components=100)),  # or use SelectKBest instead\n",
    "    ('svm', SVC(kernel='rbf', C=1.0, max_iter=5000, tol=0.001, \n",
    "                random_state=28, class_weight=\"balanced\"))\n",
    "])\n",
    "\n",
    "scores = cross_val_score(SVM_pipeline, X_train_scaled, y_train, cv=5, scoring='f1_weighted')\n",
    "print(f\"Initial CV score (f1_weighted): {scores.mean():.4f}\")"
   ]
  },
  {
   "cell_type": "markdown",
   "id": "c06efd8f",
   "metadata": {},
   "source": [
    "# Random Forest"
   ]
  },
  {
   "cell_type": "code",
   "execution_count": 6,
   "id": "e5635e2b",
   "metadata": {},
   "outputs": [
    {
     "name": "stdout",
     "output_type": "stream",
     "text": [
      "Initial CV score (f1_weighted): 0.5803\n"
     ]
    }
   ],
   "source": [
    "Forest_pipeline = Pipeline([\n",
    "    ('pca', PCA(n_components=100)),  # or use SelectKBest instead\n",
    "    ('RF', RandomForestClassifier(n_estimators=200, class_weight=\"balanced_subsample\", \n",
    "                                   n_jobs=-1, random_state=28))\n",
    "])\n",
    "\n",
    "scores = cross_val_score(Forest_pipeline, X_train_scaled, y_train, cv=5, scoring='f1_weighted')\n",
    "print(f\"Initial CV score (f1_weighted): {scores.mean():.4f}\")"
   ]
  },
  {
   "cell_type": "markdown",
   "id": "a9ee0238",
   "metadata": {},
   "source": [
    "# KNN"
   ]
  },
  {
   "cell_type": "code",
   "execution_count": 7,
   "id": "58cf9b57",
   "metadata": {},
   "outputs": [
    {
     "name": "stdout",
     "output_type": "stream",
     "text": [
      "Initial CV score (f1_weighted): 0.7652\n"
     ]
    }
   ],
   "source": [
    "KNN_pipeline = Pipeline([\n",
    "    ('pca', PCA(n_components=100)),  # or use SelectKBest instead\n",
    "    ('KNN', KNeighborsClassifier(n_neighbors=5, metric=\"manhattan\", weights=\"distance\"))\n",
    "])\n",
    "\n",
    "scores = cross_val_score(KNN_pipeline, X_train_scaled, y_train, cv=5, scoring='f1_weighted')\n",
    "print(f\"Initial CV score (f1_weighted): {scores.mean():.4f}\")"
   ]
  },
  {
   "cell_type": "markdown",
   "id": "caf4c2e7",
   "metadata": {},
   "source": [
    "# Logistic Regresiion"
   ]
  },
  {
   "cell_type": "code",
   "execution_count": null,
   "id": "b8c6bad3",
   "metadata": {},
   "outputs": [
    {
     "name": "stderr",
     "output_type": "stream",
     "text": [
      "c:\\Users\\chrst\\AppData\\Local\\Programs\\Python\\Python312\\Lib\\site-packages\\sklearn\\linear_model\\_logistic.py:1247: FutureWarning: 'multi_class' was deprecated in version 1.5 and will be removed in 1.7. From then on, it will always use 'multinomial'. Leave it to its default value to avoid this warning.\n",
      "  warnings.warn(\n",
      "c:\\Users\\chrst\\AppData\\Local\\Programs\\Python\\Python312\\Lib\\site-packages\\sklearn\\linear_model\\_sag.py:348: ConvergenceWarning: The max_iter was reached which means the coef_ did not converge\n",
      "  warnings.warn(\n",
      "c:\\Users\\chrst\\AppData\\Local\\Programs\\Python\\Python312\\Lib\\site-packages\\sklearn\\linear_model\\_logistic.py:1247: FutureWarning: 'multi_class' was deprecated in version 1.5 and will be removed in 1.7. From then on, it will always use 'multinomial'. Leave it to its default value to avoid this warning.\n",
      "  warnings.warn(\n",
      "c:\\Users\\chrst\\AppData\\Local\\Programs\\Python\\Python312\\Lib\\site-packages\\sklearn\\linear_model\\_sag.py:348: ConvergenceWarning: The max_iter was reached which means the coef_ did not converge\n",
      "  warnings.warn(\n",
      "c:\\Users\\chrst\\AppData\\Local\\Programs\\Python\\Python312\\Lib\\site-packages\\sklearn\\linear_model\\_logistic.py:1247: FutureWarning: 'multi_class' was deprecated in version 1.5 and will be removed in 1.7. From then on, it will always use 'multinomial'. Leave it to its default value to avoid this warning.\n",
      "  warnings.warn(\n",
      "c:\\Users\\chrst\\AppData\\Local\\Programs\\Python\\Python312\\Lib\\site-packages\\sklearn\\linear_model\\_sag.py:348: ConvergenceWarning: The max_iter was reached which means the coef_ did not converge\n",
      "  warnings.warn(\n",
      "c:\\Users\\chrst\\AppData\\Local\\Programs\\Python\\Python312\\Lib\\site-packages\\sklearn\\linear_model\\_logistic.py:1247: FutureWarning: 'multi_class' was deprecated in version 1.5 and will be removed in 1.7. From then on, it will always use 'multinomial'. Leave it to its default value to avoid this warning.\n",
      "  warnings.warn(\n",
      "c:\\Users\\chrst\\AppData\\Local\\Programs\\Python\\Python312\\Lib\\site-packages\\sklearn\\linear_model\\_sag.py:348: ConvergenceWarning: The max_iter was reached which means the coef_ did not converge\n",
      "  warnings.warn(\n",
      "c:\\Users\\chrst\\AppData\\Local\\Programs\\Python\\Python312\\Lib\\site-packages\\sklearn\\linear_model\\_logistic.py:1247: FutureWarning: 'multi_class' was deprecated in version 1.5 and will be removed in 1.7. From then on, it will always use 'multinomial'. Leave it to its default value to avoid this warning.\n",
      "  warnings.warn(\n"
     ]
    },
    {
     "name": "stdout",
     "output_type": "stream",
     "text": [
      "Initial CV score (f1_weighted): 0.6594\n"
     ]
    },
    {
     "name": "stderr",
     "output_type": "stream",
     "text": [
      "c:\\Users\\chrst\\AppData\\Local\\Programs\\Python\\Python312\\Lib\\site-packages\\sklearn\\linear_model\\_sag.py:348: ConvergenceWarning: The max_iter was reached which means the coef_ did not converge\n",
      "  warnings.warn(\n"
     ]
    }
   ],
   "source": [
    "LGR_pipeline = Pipeline([\n",
    "    ('pca', PCA(n_components=100)),\n",
    "    ('LGR', LogisticRegression(multi_class='multinomial', solver='saga', max_iter=1000, class_weight='balanced'))\n",
    "])\n",
    "\n",
    "scores = cross_val_score(LGR_pipeline, X_train_scaled, y_train, cv=5, scoring='f1_weighted')\n",
    "print(f\"Initial CV score (f1_weighted): {scores.mean():.4f}\")"
   ]
  }
 ],
 "metadata": {
  "kernelspec": {
   "display_name": "Python 3",
   "language": "python",
   "name": "python3"
  },
  "language_info": {
   "codemirror_mode": {
    "name": "ipython",
    "version": 3
   },
   "file_extension": ".py",
   "mimetype": "text/x-python",
   "name": "python",
   "nbconvert_exporter": "python",
   "pygments_lexer": "ipython3",
   "version": "3.12.9"
  }
 },
 "nbformat": 4,
 "nbformat_minor": 5
}
