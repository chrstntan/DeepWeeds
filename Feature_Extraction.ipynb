{
 "cells": [
  {
   "cell_type": "markdown",
   "id": "53a23168",
   "metadata": {},
   "source": [
    "# Libraries"
   ]
  },
  {
   "cell_type": "code",
   "execution_count": 2,
   "id": "cd501e94",
   "metadata": {},
   "outputs": [],
   "source": [
    "import os\n",
    "import sys\n",
    "import cv2\n",
    "import numpy as np\n",
    "import pandas as pd\n",
    "import pickle\n",
    "from paths import LABEL_CSV, IMAGES_DIR, SKIMAGE_FEATURES_PATH, FEATURE_EXTRACTORS_DIR, IMG2VEC_FEATURES_PATH\n",
    "\n",
    "sys.path.append(str(FEATURE_EXTRACTORS_DIR))"
   ]
  },
  {
   "cell_type": "code",
   "execution_count": 3,
   "id": "0b2586b3",
   "metadata": {},
   "outputs": [],
   "source": [
    "from skimage_feature_extractor import extract_features as sk_extractor\n",
    "from img2vec import img2vec_extractor"
   ]
  },
  {
   "cell_type": "markdown",
   "id": "f309ec67",
   "metadata": {},
   "source": [
    "# Extraction"
   ]
  },
  {
   "cell_type": "code",
   "execution_count": 4,
   "id": "ff3639ca",
   "metadata": {},
   "outputs": [],
   "source": [
    "def main(output, extractor):\n",
    "    if not LABEL_CSV.exists():\n",
    "        print(f\"Missing labels at: {LABEL_CSV}\")\n",
    "        return\n",
    "\n",
    "    df = pd.read_csv(LABEL_CSV)\n",
    "    features, labels = [], []\n",
    "\n",
    "    skipped_img_count = 0\n",
    "    failed_img_count = 0\n",
    "    for i, row in df.iterrows():\n",
    "        filename = row['Filename']\n",
    "        label = row['Label']\n",
    "        img_path = IMAGES_DIR / filename\n",
    "\n",
    "        if not img_path.exists():\n",
    "            print(f\"[{i}] Skipping missing image: {filename}\")\n",
    "            skipped_img_count +=1\n",
    "            continue\n",
    "\n",
    "        image = cv2.imread(str(img_path))\n",
    "        if image is None:\n",
    "            print(f\"[{i}] Failed to load image: {filename}\")\n",
    "            failed_img_count +=1\n",
    "            continue\n",
    "\n",
    "        try:\n",
    "            feature = extractor(image)\n",
    "            features.append(feature)\n",
    "            labels.append(label)\n",
    "        except Exception as e:\n",
    "            print(f\"[{i}] Error processing {filename}: {e}\")\n",
    "\n",
    "        if i % 1000 == 0: \n",
    "            print(f\"Processed {i}/{len(df)} images...\")\n",
    "\n",
    "    features = np.array(features)\n",
    "    labels = np.array(labels)\n",
    "\n",
    "    os.makedirs(output.parent, exist_ok=True)\n",
    "    with open(output, \"wb\") as f:\n",
    "        pickle.dump((features, labels), f)\n",
    "\n",
    "    print(f\"Process completed. Saved features to: {output}\")\n",
    "    print(f\"X shape: {features.shape}, Y shape: {labels.shape}\")\n",
    "    print(f\"Skipped Images: {skipped_img_count}, Failed Images: {failed_img_count}\")"
   ]
  },
  {
   "cell_type": "markdown",
   "id": "5d836586",
   "metadata": {},
   "source": [
    "## SKIMAGE"
   ]
  },
  {
   "cell_type": "code",
   "execution_count": null,
   "id": "81d7f6cb",
   "metadata": {},
   "outputs": [],
   "source": [
    "main(SKIMAGE_FEATURES_PATH, sk_extractor)"
   ]
  },
  {
   "cell_type": "markdown",
   "id": "a27405ad",
   "metadata": {},
   "source": [
    "## IMG2VEC"
   ]
  },
  {
   "cell_type": "code",
   "execution_count": 5,
   "id": "1272e287",
   "metadata": {},
   "outputs": [
    {
     "name": "stdout",
     "output_type": "stream",
     "text": [
      "Processed 0/17509 images...\n",
      "Processed 1000/17509 images...\n",
      "Processed 2000/17509 images...\n",
      "Processed 3000/17509 images...\n",
      "Processed 4000/17509 images...\n",
      "Processed 5000/17509 images...\n",
      "Processed 6000/17509 images...\n",
      "Processed 7000/17509 images...\n",
      "Processed 8000/17509 images...\n",
      "Processed 9000/17509 images...\n",
      "Processed 10000/17509 images...\n",
      "Processed 11000/17509 images...\n",
      "Processed 12000/17509 images...\n",
      "Processed 13000/17509 images...\n",
      "Processed 14000/17509 images...\n",
      "Processed 15000/17509 images...\n",
      "Processed 16000/17509 images...\n",
      "Processed 17000/17509 images...\n",
      "Process completed. Saved features to: C:\\Users\\chrst\\Desktop\\Personal Projects\\idk_yet\\data\\models\\features (img2vec).pkl\n",
      "X shape: (17509, 512), Y shape: (17509,)\n",
      "Skipped Images: 0, Failed Images: 0\n"
     ]
    }
   ],
   "source": [
    "main(IMG2VEC_FEATURES_PATH, img2vec_extractor)"
   ]
  },
  {
   "cell_type": "markdown",
   "id": "cf3cabe8",
   "metadata": {},
   "source": [
    "# Features"
   ]
  },
  {
   "cell_type": "code",
   "execution_count": null,
   "id": "3c061c70",
   "metadata": {},
   "outputs": [],
   "source": [
    "df = pd.read_csv(LABEL_CSV)"
   ]
  },
  {
   "cell_type": "code",
   "execution_count": null,
   "id": "b5a240b2",
   "metadata": {},
   "outputs": [],
   "source": [
    "df_labels = df[['Label', 'Species']].drop_duplicates().sort_values('Label').reset_index(drop=True)\n",
    "print(df_labels)"
   ]
  },
  {
   "cell_type": "code",
   "execution_count": null,
   "id": "b846502d",
   "metadata": {},
   "outputs": [],
   "source": [
    "df2 = df.drop(columns=[\"Filename\"])\n",
    "result  = df2.groupby(['Label']).value_counts()\n",
    "print(result)"
   ]
  }
 ],
 "metadata": {
  "kernelspec": {
   "display_name": "Python 3",
   "language": "python",
   "name": "python3"
  },
  "language_info": {
   "codemirror_mode": {
    "name": "ipython",
    "version": 3
   },
   "file_extension": ".py",
   "mimetype": "text/x-python",
   "name": "python",
   "nbconvert_exporter": "python",
   "pygments_lexer": "ipython3",
   "version": "3.12.9"
  }
 },
 "nbformat": 4,
 "nbformat_minor": 5
}
